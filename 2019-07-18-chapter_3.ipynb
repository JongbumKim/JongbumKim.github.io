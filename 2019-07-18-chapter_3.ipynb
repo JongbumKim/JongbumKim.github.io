{
 "cells": [
  {
   "cell_type": "code",
   "execution_count": 1,
   "metadata": {},
   "outputs": [
    {
     "name": "stdout",
     "output_type": "stream",
     "text": [
      "Hellow wolrd\n"
     ]
    }
   ],
   "source": [
    "print(\"Hellow wolrd\")"
   ]
  },
  {
   "cell_type": "code",
   "execution_count": 2,
   "metadata": {},
   "outputs": [
    {
     "data": {
      "text/plain": [
       "1.5"
      ]
     },
     "execution_count": 2,
     "metadata": {},
     "output_type": "execute_result"
    }
   ],
   "source": [
    "3/2"
   ]
  },
  {
   "cell_type": "code",
   "execution_count": 3,
   "metadata": {},
   "outputs": [
    {
     "data": {
      "text/plain": [
       "1"
      ]
     },
     "execution_count": 3,
     "metadata": {},
     "output_type": "execute_result"
    }
   ],
   "source": [
    "3//2"
   ]
  },
  {
   "cell_type": "code",
   "execution_count": 14,
   "metadata": {},
   "outputs": [
    {
     "name": "stdout",
     "output_type": "stream",
     "text": [
      "Jungwon now lives in An-Yang\n",
      " and makes $210000.0\n",
      "Jongbum now lives in OnSu\n",
      " and makes $105000.0\n",
      "Sanggyeom now lives in DaeBang\n",
      " and makes $78750.0\n"
     ]
    }
   ],
   "source": [
    "SALARY_RAISE_FACTOR = 0.05\n",
    "STATE_CODE_MAP = {'AY' : 'An-Yang', 'OS' : 'OnSu', 'DB' : 'DaeBang'}\n",
    "\n",
    "def update_employee_record(rec):\n",
    "    old_sal = rec['salary']\n",
    "    new_sal = old_sal * ( 1 + SALARY_RAISE_FACTOR)\n",
    "    rec['salary'] = new_sal\n",
    "    state_code = rec['state_code']\n",
    "    rec['state_name'] = STATE_CODE_MAP[state_code]\n",
    "    \n",
    "input_data = [\n",
    "    {'employee_name' : 'Jungwon', 'salary': 200000.0, 'state_code': 'AY'},\n",
    "    {'employee_name' : 'Jongbum', 'salary': 100000.0, 'state_code': 'OS'},\n",
    "    {'employee_name' : 'Sanggyeom', 'salary': 75000.0, 'state_code' : 'DB'}\n",
    "]\n",
    "\n",
    "for rec in input_data:\n",
    "    update_employee_record(rec)\n",
    "    name = rec['employee_name']\n",
    "    salary = rec['salary']\n",
    "    state = rec['state_name']\n",
    "    print(name + ' now lives in ' + state)\n",
    "    print(' and makes $' + str(salary))\n",
    "    \n",
    "    \n",
    "    \n",
    "    "
   ]
  },
  {
   "cell_type": "code",
   "execution_count": 24,
   "metadata": {},
   "outputs": [
    {
     "name": "stdout",
     "output_type": "stream",
     "text": [
      "2,5,2.0\n"
     ]
    }
   ],
   "source": [
    "my_integer = 2\n",
    "my_other_integer = 2 + 3\n",
    "my_float = 2.0\n",
    "\n",
    "print(str(my_integer) + \",\" + str(my_other_integer) + \",\" + str(my_float))"
   ]
  },
  {
   "cell_type": "code",
   "execution_count": 42,
   "metadata": {},
   "outputs": [
    {
     "data": {
      "text/plain": [
       "False"
      ]
     },
     "execution_count": 42,
     "metadata": {},
     "output_type": "execute_result"
    }
   ],
   "source": [
    "my_true_bool = 5\n",
    "my_false_bool = 10\n",
    "this_is_true = (0<100)\n",
    "this_is_false = (0>100)\n",
    "\n",
    "my_true_bool\n",
    "my_false_bool\n",
    "this_is_true\n",
    "this_is_false == this_is_true\n",
    "\n",
    "this_is_false"
   ]
  },
  {
   "cell_type": "code",
   "execution_count": 45,
   "metadata": {},
   "outputs": [],
   "source": [
    "a_string = \"hello\"\n",
    "same_as_previous = \"hello\"\n",
    "an_empty_string = \"\"\n",
    "w_a_single_quote = \"Hello's\"\n"
   ]
  },
  {
   "cell_type": "code",
   "execution_count": 47,
   "metadata": {},
   "outputs": [
    {
     "ename": "SyntaxError",
     "evalue": "EOL while scanning string literal (<ipython-input-47-674bcc3d77e8>, line 5)",
     "output_type": "error",
     "traceback": [
      "\u001b[0;36m  File \u001b[0;32m\"<ipython-input-47-674bcc3d77e8>\"\u001b[0;36m, line \u001b[0;32m5\u001b[0m\n\u001b[0;31m    multi_line_string2 = \"line1\u001b[0m\n\u001b[0m                               ^\u001b[0m\n\u001b[0;31mSyntaxError\u001b[0m\u001b[0;31m:\u001b[0m EOL while scanning string literal\n"
     ]
    }
   ],
   "source": [
    "multi_line_string = \"\"\"line1\n",
    "line2\"\"\" \n",
    "multi_line_string\n",
    "\n",
    "multi_line_string2 = \"line1\n",
    "line2\"\n",
    "multi_line_string2"
   ]
  },
  {
   "cell_type": "code",
   "execution_count": 48,
   "metadata": {},
   "outputs": [
    {
     "data": {
      "text/plain": [
       "'A'"
      ]
     },
     "execution_count": 48,
     "metadata": {},
     "output_type": "execute_result"
    }
   ],
   "source": [
    "'ABCD'[0]\n"
   ]
  },
  {
   "cell_type": "code",
   "execution_count": 53,
   "metadata": {},
   "outputs": [
    {
     "data": {
      "text/plain": [
       "'ABCD'"
      ]
     },
     "execution_count": 53,
     "metadata": {},
     "output_type": "execute_result"
    }
   ],
   "source": [
    "\"ABCD\"[0:6]"
   ]
  },
  {
   "cell_type": "code",
   "execution_count": 60,
   "metadata": {},
   "outputs": [
    {
     "data": {
      "text/plain": [
       "'A'"
      ]
     },
     "execution_count": 60,
     "metadata": {},
     "output_type": "execute_result"
    }
   ],
   "source": [
    "\"ABCD\"[:-3]"
   ]
  },
  {
   "cell_type": "code",
   "execution_count": null,
   "metadata": {},
   "outputs": [],
   "source": [
    "def sqr(x):\n",
    "    \"\"\"입력받은 값을 제곱합니다\n",
    "    에헤라디야~\"\"\"\n",
    "    return x*x\n",
    "print(sqr(5))\n",
    "print(sqr.__doc__)\n"
   ]
  },
  {
   "cell_type": "code",
   "execution_count": 18,
   "metadata": {},
   "outputs": [
    {
     "name": "stdout",
     "output_type": "stream",
     "text": [
      "my_set :  {'a', 'c', 'b'}\n",
      "my_tuple :  ('a', 'b', 'c')\n"
     ]
    },
    {
     "data": {
      "text/plain": [
       "{'a', 'b', 'c'}"
      ]
     },
     "execution_count": 18,
     "metadata": {},
     "output_type": "execute_result"
    }
   ],
   "source": [
    "my_list = [\"a\", \"b\", \"c\"]\n",
    "my_set = set(my_list)\n",
    "my_tuple = tuple(my_list)\n",
    "\n",
    "print(\"my_set : \", my_set)\n",
    "print(\"my_tuple : \", my_tuple)\n",
    "\n",
    "my_set"
   ]
  },
  {
   "cell_type": "code",
   "execution_count": 19,
   "metadata": {},
   "outputs": [
    {
     "data": {
      "text/plain": [
       "['__and__',\n",
       " '__class__',\n",
       " '__contains__',\n",
       " '__delattr__',\n",
       " '__dir__',\n",
       " '__doc__',\n",
       " '__eq__',\n",
       " '__format__',\n",
       " '__ge__',\n",
       " '__getattribute__',\n",
       " '__gt__',\n",
       " '__hash__',\n",
       " '__iand__',\n",
       " '__init__',\n",
       " '__init_subclass__',\n",
       " '__ior__',\n",
       " '__isub__',\n",
       " '__iter__',\n",
       " '__ixor__',\n",
       " '__le__',\n",
       " '__len__',\n",
       " '__lt__',\n",
       " '__ne__',\n",
       " '__new__',\n",
       " '__or__',\n",
       " '__rand__',\n",
       " '__reduce__',\n",
       " '__reduce_ex__',\n",
       " '__repr__',\n",
       " '__ror__',\n",
       " '__rsub__',\n",
       " '__rxor__',\n",
       " '__setattr__',\n",
       " '__sizeof__',\n",
       " '__str__',\n",
       " '__sub__',\n",
       " '__subclasshook__',\n",
       " '__xor__',\n",
       " 'add',\n",
       " 'clear',\n",
       " 'copy',\n",
       " 'difference',\n",
       " 'difference_update',\n",
       " 'discard',\n",
       " 'intersection',\n",
       " 'intersection_update',\n",
       " 'isdisjoint',\n",
       " 'issubset',\n",
       " 'issuperset',\n",
       " 'pop',\n",
       " 'remove',\n",
       " 'symmetric_difference',\n",
       " 'symmetric_difference_update',\n",
       " 'union',\n",
       " 'update']"
      ]
     },
     "execution_count": 19,
     "metadata": {},
     "output_type": "execute_result"
    }
   ],
   "source": [
    "dir(my_set)"
   ]
  },
  {
   "cell_type": "code",
   "execution_count": 22,
   "metadata": {},
   "outputs": [
    {
     "data": {
      "text/plain": [
       "\"{'a', 'c', 'b'}\""
      ]
     },
     "execution_count": 22,
     "metadata": {},
     "output_type": "execute_result"
    }
   ],
   "source": [
    "my_set.__repr__()"
   ]
  },
  {
   "cell_type": "code",
   "execution_count": null,
   "metadata": {},
   "outputs": [],
   "source": [
    "my_set.__str__()"
   ]
  },
  {
   "cell_type": "code",
   "execution_count": 13,
   "metadata": {},
   "outputs": [
    {
     "name": "stdout",
     "output_type": "stream",
     "text": [
      "a\n"
     ]
    },
    {
     "data": {
      "text/plain": [
       "[1]"
      ]
     },
     "execution_count": 13,
     "metadata": {},
     "output_type": "execute_result"
    }
   ],
   "source": [
    "my_list = [\"a\", \"b\", \"c\"]\n",
    "print(my_list[0])\n",
    "my_list[0] = \"A \"\n",
    "my_list.append(\"d \")\n",
    "\n",
    "mixed_list = [\"A \", 5.7, \"B \", [1,2,3]]\n",
    "\n",
    "mixed_list[3][:-2]"
   ]
  },
  {
   "cell_type": "code",
   "execution_count": 23,
   "metadata": {},
   "outputs": [
    {
     "name": "stdout",
     "output_type": "stream",
     "text": [
      "squares_of_evens :  [4, 16, 36, 64]\n",
      "squares_of_test :  [1, 4, 9, 16, 25, 36, 49]\n"
     ]
    },
    {
     "data": {
      "text/plain": [
       "[1, 4, 9, 16, 25, 36, 49]"
      ]
     },
     "execution_count": 23,
     "metadata": {},
     "output_type": "execute_result"
    }
   ],
   "source": [
    "original_list = [1,2,3,4,5,6,7,8]\n",
    "squares = [x*x for x in original_list]\n",
    "squares_of_evens = [x*x for x in original_list if x%2==0]\n",
    "squares_of_test = [x*x for x in original_list if x*x<60]\n",
    "print(\"squares_of_evens : \", squares_of_evens)\n",
    "print(\"squares_of_test : \", squares_of_test)\n"
   ]
  },
  {
   "cell_type": "code",
   "execution_count": 28,
   "metadata": {},
   "outputs": [
    {
     "data": {
      "text/plain": [
       "['a', 'b', 'c']"
      ]
     },
     "execution_count": 28,
     "metadata": {},
     "output_type": "execute_result"
    }
   ],
   "source": [
    "my_list = [\"a\",\"b\", \"c\"]\n",
    "first_two_elements = my_list[0:3]\n",
    "first_two_elements"
   ]
  },
  {
   "cell_type": "code",
   "execution_count": 31,
   "metadata": {},
   "outputs": [
    {
     "data": {
      "text/plain": [
       "['a', 'b']"
      ]
     },
     "execution_count": 31,
     "metadata": {},
     "output_type": "execute_result"
    }
   ],
   "source": [
    "all_but_last_element = my_list[:-1]\n",
    "all_but_last_element"
   ]
  },
  {
   "cell_type": "code",
   "execution_count": 32,
   "metadata": {},
   "outputs": [
    {
     "data": {
      "text/plain": [
       "['ABC', 'DEF']"
      ]
     },
     "execution_count": 32,
     "metadata": {},
     "output_type": "execute_result"
    }
   ],
   "source": [
    "\"ABC DEF\".split()"
   ]
  },
  {
   "cell_type": "code",
   "execution_count": 33,
   "metadata": {},
   "outputs": [
    {
     "data": {
      "text/plain": [
       "['ABC', 'DEF']"
      ]
     },
     "execution_count": 33,
     "metadata": {},
     "output_type": "execute_result"
    }
   ],
   "source": [
    "\"ABC \\tDEF\".split()"
   ]
  },
  {
   "cell_type": "code",
   "execution_count": 34,
   "metadata": {},
   "outputs": [
    {
     "data": {
      "text/plain": [
       "['ABC', 'DEF']"
      ]
     },
     "execution_count": 34,
     "metadata": {},
     "output_type": "execute_result"
    }
   ],
   "source": [
    "\"ABC    \\tDEF\".split()"
   ]
  },
  {
   "cell_type": "code",
   "execution_count": 35,
   "metadata": {},
   "outputs": [
    {
     "data": {
      "text/plain": [
       "['', 'C', 'D']"
      ]
     },
     "execution_count": 35,
     "metadata": {},
     "output_type": "execute_result"
    }
   ],
   "source": [
    "\"ABCABD\".split(\"AB\")"
   ]
  },
  {
   "cell_type": "code",
   "execution_count": 36,
   "metadata": {},
   "outputs": [
    {
     "data": {
      "text/plain": [
       "'A,B,C'"
      ]
     },
     "execution_count": 36,
     "metadata": {},
     "output_type": "execute_result"
    }
   ],
   "source": [
    "\",\".join([\"A\",\"B\",\"C\"])"
   ]
  },
  {
   "cell_type": "code",
   "execution_count": 37,
   "metadata": {},
   "outputs": [
    {
     "data": {
      "text/plain": [
       "'BDF'"
      ]
     },
     "execution_count": 37,
     "metadata": {},
     "output_type": "execute_result"
    }
   ],
   "source": [
    "start, end, count_by = 1,7,2\n",
    "\"ABCDEFG\"[start: end: count_by]\n"
   ]
  },
  {
   "cell_type": "code",
   "execution_count": 56,
   "metadata": {},
   "outputs": [
    {
     "data": {
      "text/plain": [
       "'BDFSFSFSFSFSF'"
      ]
     },
     "execution_count": 56,
     "metadata": {},
     "output_type": "execute_result"
    }
   ],
   "source": [
    "\"ABCDEFASDFASEFASDFASDFASDF\"[1:len('ABCDEFASDFASEFASDFASDFASDF'):2]"
   ]
  },
  {
   "cell_type": "code",
   "execution_count": 59,
   "metadata": {},
   "outputs": [
    {
     "name": "stdout",
     "output_type": "stream",
     "text": [
      "hellow wolrd\n"
     ]
    }
   ],
   "source": [
    "my_tuple = (1,2,\"hellow wolrd\")\n",
    "print(my_tuple[2])"
   ]
  },
  {
   "cell_type": "code",
   "execution_count": 63,
   "metadata": {},
   "outputs": [
    {
     "data": {
      "text/plain": [
       "2"
      ]
     },
     "execution_count": 63,
     "metadata": {},
     "output_type": "execute_result"
    }
   ],
   "source": [
    "my_tuple = (1,2)\n",
    "zeroth_field, first_field = my_tuple\n",
    "first_field"
   ]
  },
  {
   "cell_type": "code",
   "execution_count": 70,
   "metadata": {},
   "outputs": [
    {
     "name": "stdout",
     "output_type": "stream",
     "text": [
      "1\n"
     ]
    },
    {
     "data": {
      "text/plain": [
       "dict_items([('January', 1), ('February', 2)])"
      ]
     },
     "execution_count": 70,
     "metadata": {},
     "output_type": "execute_result"
    }
   ],
   "source": [
    "my_dict = {\"January\":1, \"February\": 2}\n",
    "print(my_dict[\"January\"])\n",
    "my_dict.items()"
   ]
  },
  {
   "cell_type": "code",
   "execution_count": 71,
   "metadata": {},
   "outputs": [
    {
     "data": {
      "text/plain": [
       "False"
      ]
     },
     "execution_count": 71,
     "metadata": {},
     "output_type": "execute_result"
    }
   ],
   "source": [
    "s = set()\n",
    "5 in s"
   ]
  },
  {
   "cell_type": "code",
   "execution_count": 76,
   "metadata": {},
   "outputs": [
    {
     "data": {
      "text/plain": [
       "{5}"
      ]
     },
     "execution_count": 76,
     "metadata": {},
     "output_type": "execute_result"
    }
   ],
   "source": [
    "s.add(5)\n",
    "5 in s\n",
    "s.add(5)\n",
    "s"
   ]
  },
  {
   "cell_type": "code",
   "execution_count": 78,
   "metadata": {},
   "outputs": [
    {
     "data": {
      "text/plain": [
       "(25, 6)"
      ]
     },
     "execution_count": 78,
     "metadata": {},
     "output_type": "execute_result"
    }
   ],
   "source": [
    "def my_function(x):\n",
    "    y = x + 1\n",
    "    x_sqrd = x*x\n",
    "    return x_sqrd, y\n",
    "\n",
    "five_plus_one_sqrd = my_function(5)\n",
    "\n",
    "my_function(5)"
   ]
  },
  {
   "cell_type": "code",
   "execution_count": 88,
   "metadata": {},
   "outputs": [
    {
     "data": {
      "text/plain": [
       "-1"
      ]
     },
     "execution_count": 88,
     "metadata": {},
     "output_type": "execute_result"
    }
   ],
   "source": [
    "def my_raise(x, n=2):\n",
    "    return pow(x,n)\n",
    "\n",
    "two_sqrd = my_raise(2)\n",
    "two_cubed = my_raise(2, n=3)\n",
    "\n",
    "two_cubed\n",
    "pow(-1, 9)"
   ]
  },
  {
   "cell_type": "code",
   "execution_count": 90,
   "metadata": {},
   "outputs": [
    {
     "data": {
      "text/plain": [
       "25"
      ]
     },
     "execution_count": 90,
     "metadata": {},
     "output_type": "execute_result"
    }
   ],
   "source": [
    "sqr = lambda x : x*x\n",
    "five_sqrd = sqr(5)\n",
    "sqr(5)"
   ]
  },
  {
   "cell_type": "code",
   "execution_count": 95,
   "metadata": {},
   "outputs": [
    {
     "data": {
      "text/plain": [
       "[4, 16]"
      ]
     },
     "execution_count": 95,
     "metadata": {},
     "output_type": "execute_result"
    }
   ],
   "source": [
    "def apply_to_evens(a_list, a_func):\n",
    "    return [a_func(x) for x in a_list if x %2==0]\n",
    "\n",
    "my_list = [1,2,3,4,5]\n",
    "sqrs_of_evens = apply_to_evens(my_list, lambda x:x*x)\n",
    "\n",
    "\n",
    "sqrs_of_evens\n"
   ]
  },
  {
   "cell_type": "code",
   "execution_count": 96,
   "metadata": {},
   "outputs": [
    {
     "name": "stdout",
     "output_type": "stream",
     "text": [
      "the number is  1\n",
      "the number is  2\n",
      "the number is  3\n"
     ]
    }
   ],
   "source": [
    "my_list = [1,2,3]\n",
    "for x in my_list:\n",
    "    print(\"the number is \", x)"
   ]
  },
  {
   "cell_type": "code",
   "execution_count": 97,
   "metadata": {},
   "outputs": [
    {
     "name": "stdout",
     "output_type": "stream",
     "text": [
      "the value for  January  is  1\n",
      "the value for  February  is  2\n"
     ]
    }
   ],
   "source": [
    "for key, value, in my_dict.items():\n",
    "    print(\"the value for \", key, \" is \", value)"
   ]
  },
  {
   "cell_type": "code",
   "execution_count": 107,
   "metadata": {},
   "outputs": [
    {
     "name": "stdout",
     "output_type": "stream",
     "text": [
      "i은(눈) 5보다 크다.\n"
     ]
    }
   ],
   "source": [
    "def test(i):\n",
    "    if i < 3:\n",
    "        print(\"i은(는) 3보다 작다\")\n",
    "    elif i < 5: print(\"i은(는) 3과 5 사이의 값이다.\")\n",
    "    elif i == 5 : print(\"i은(는) 5다.\")\n",
    "    else : print(\"i은(눈) 5보다 크다.\")\n",
    "\n",
    "test(5.1)"
   ]
  },
  {
   "cell_type": "code",
   "execution_count": 109,
   "metadata": {},
   "outputs": [
    {
     "name": "stdout",
     "output_type": "stream",
     "text": [
      "0 는(은) 5보다 작다.\n",
      "1 는(은) 5보다 작다.\n",
      "2 는(은) 5보다 작다.\n",
      "3 는(은) 5보다 작다.\n",
      "4 는(은) 5보다 작다.\n",
      "5다\n"
     ]
    }
   ],
   "source": [
    "i = 0\n",
    "while i < 5:\n",
    "    print(i,\"는(은) 5보다 작다.\")\n",
    "    i = i+1\n",
    "    if i == 5 : print (\"5다\")"
   ]
  },
  {
   "cell_type": "code",
   "execution_count": 111,
   "metadata": {},
   "outputs": [
    {
     "data": {
      "text/plain": [
       "<zip at 0x7f8a5404b148>"
      ]
     },
     "execution_count": 111,
     "metadata": {},
     "output_type": "execute_result"
    }
   ],
   "source": [
    "zip([\"Sundat\", \"Monday\", \"Tuesdat\"], range(3))"
   ]
  },
  {
   "cell_type": "code",
   "execution_count": 113,
   "metadata": {},
   "outputs": [
    {
     "name": "stdout",
     "output_type": "stream",
     "text": [
      "0\n",
      "1\n",
      "2\n",
      "3\n",
      "4\n",
      "5\n",
      "6\n",
      "7\n",
      "8\n",
      "9\n"
     ]
    }
   ],
   "source": [
    "for i in range(0,10):\n",
    "    print(i)"
   ]
  },
  {
   "cell_type": "code",
   "execution_count": 115,
   "metadata": {},
   "outputs": [
    {
     "data": {
      "text/plain": [
       "True"
      ]
     },
     "execution_count": 115,
     "metadata": {},
     "output_type": "execute_result"
    }
   ],
   "source": [
    "bool(\"\")\n",
    "bool(1<3)"
   ]
  },
  {
   "cell_type": "code",
   "execution_count": 124,
   "metadata": {},
   "outputs": [
    {
     "name": "stdout",
     "output_type": "stream",
     "text": [
      "인덱스 : 0\n",
      "값 :  1\n",
      "인덱스 : 1\n",
      "값 :  2\n",
      "인덱스 : 2\n",
      "값 :  3\n",
      "인덱스 : 3\n",
      "값 :  4\n",
      "인덱스 : 4\n",
      "값 :  5\n"
     ]
    }
   ],
   "source": [
    "mylist = [1,2,3,4,5]\n",
    "for ind, val in enumerate(mylist):\n",
    "    print(\"인덱스 : %i\" % ind)\n",
    "    print(\"값 : \", val)"
   ]
  },
  {
   "cell_type": "code",
   "execution_count": 125,
   "metadata": {},
   "outputs": [
    {
     "name": "stdout",
     "output_type": "stream",
     "text": [
      "이 파일엔 열 번째 줄이 없습니다.\n"
     ]
    }
   ],
   "source": [
    "try:\n",
    "    lines = input_test.split(\"\\n\")\n",
    "    print(\"열 번째 줄: \", lines[9])\n",
    "except:\n",
    "    print(\"이 파일엔 열 번째 줄이 없습니다.\")"
   ]
  },
  {
   "cell_type": "code",
   "execution_count": 128,
   "metadata": {},
   "outputs": [
    {
     "name": "stdout",
     "output_type": "stream",
     "text": [
      "멍멍!!\n"
     ]
    }
   ],
   "source": [
    "class Dog:\n",
    "    def __init__(self, name):\n",
    "        self.name = name\n",
    "    def respond_to_command(self, command):\n",
    "        if command == self.name: self.speak()\n",
    "    def speak(self):\n",
    "        print(\"멍멍!!\")\n",
    "        \n",
    "fido = Dog(\"봉구\")\n",
    "fido.respond_to_command(\"야옹이\")\n",
    "fido.respond_to_command(\"봉구\")"
   ]
  },
  {
   "cell_type": "code",
   "execution_count": 149,
   "metadata": {},
   "outputs": [
    {
     "name": "stdout",
     "output_type": "stream",
     "text": [
      "Index(['Jungwon', 'Jongbum', 'Sanggyeom'], dtype='object', name='name')\n",
      "34.0\n"
     ]
    },
    {
     "data": {
      "text/plain": [
       "age                34.0\n",
       "age_plus_one       35.0\n",
       "age_times_two      68.0\n",
       "age_squared      1156.0\n",
       "over_30            34.0\n",
       "Name: Jongbum, dtype: float64"
      ]
     },
     "execution_count": 149,
     "metadata": {},
     "output_type": "execute_result"
    }
   ],
   "source": [
    "import pandas as pd\n",
    "\n",
    "\n",
    "df = pd.DataFrame({\n",
    "    \"name\": [\"Jungwon\", \"Jongbum\", \"Sanggyeom\"],\n",
    "    \"age\" : [36,34,28]\n",
    "    })\n",
    "\n",
    "#other_df = pd.read_csv(\"myfile.csv\")\n",
    "\n",
    "df[\"age_plus_one\"] = df[\"age\"]+ 1\n",
    "df[\"age_times_two\"] = 2 * df[\"age\"]\n",
    "df[\"age_squared\"] = df[\"age\"] * df[\"age\"]\n",
    "df[\"over_30\"] = df[\"age\"].quantile(0.5)\n",
    "\n",
    "df_below50 = df[df[\"age\"] < 50]\n",
    "\n",
    "df[\"age_squared\"] = df[\"age\"].apply(lambda x: x*x)\n",
    "\n",
    "df_w_name_as_ind = df.set_index(\"name\")\n",
    "print(df_w_name_as_ind.index)\n",
    "\n",
    "df\n",
    "\n",
    "\n",
    "jongbum_row = df_w_name_as_ind.loc[\"Jongbum\"]\n",
    "print(jongbum_row[\"age\"])\n",
    "\n",
    "jongbum_row"
   ]
  },
  {
   "cell_type": "code",
   "execution_count": 137,
   "metadata": {},
   "outputs": [
    {
     "data": {
      "text/plain": [
       "0    1\n",
       "1    2\n",
       "2    3\n",
       "dtype: int64"
      ]
     },
     "execution_count": 137,
     "metadata": {},
     "output_type": "execute_result"
    }
   ],
   "source": [
    "import pandas as pd\n",
    "s = pd.Series([1,2,3])\n",
    "s"
   ]
  },
  {
   "cell_type": "code",
   "execution_count": 138,
   "metadata": {},
   "outputs": [
    {
     "data": {
      "text/plain": [
       "0    3\n",
       "1    4\n",
       "2    5\n",
       "dtype: int64"
      ]
     },
     "execution_count": 138,
     "metadata": {},
     "output_type": "execute_result"
    }
   ],
   "source": [
    "s+2\n"
   ]
  },
  {
   "cell_type": "code",
   "execution_count": 139,
   "metadata": {},
   "outputs": [
    {
     "data": {
      "text/plain": [
       "RangeIndex(start=0, stop=3, step=1)"
      ]
     },
     "execution_count": 139,
     "metadata": {},
     "output_type": "execute_result"
    }
   ],
   "source": [
    "s.index"
   ]
  },
  {
   "cell_type": "code",
   "execution_count": 140,
   "metadata": {},
   "outputs": [
    {
     "data": {
      "text/plain": [
       "0    5\n",
       "1    6\n",
       "2    8\n",
       "dtype: int64"
      ]
     },
     "execution_count": 140,
     "metadata": {},
     "output_type": "execute_result"
    }
   ],
   "source": [
    "s + pd.Series([4,4,5])"
   ]
  },
  {
   "cell_type": "code",
   "execution_count": 151,
   "metadata": {},
   "outputs": [
    {
     "name": "stdout",
     "output_type": "stream",
     "text": [
      "        age  height\n",
      "name               \n",
      "Tom      60     6.2\n",
      "Tyrell   25     4.0\n",
      "Claire   33     5.5\n"
     ]
    }
   ],
   "source": [
    "df_w_age = pd.DataFrame({\n",
    "    \"name\": [\"Tom\", \"Tyrell\", \"Claire\"],\n",
    "    \"age\": [60,25,33]\n",
    "})\n",
    "\n",
    "df_w_height = pd.DataFrame({\n",
    "    \"name\": [\"Tom\", \"Tyrell\", \"Claire\"],\n",
    "    \"height\": [6.2, 4.0, 5.5]\n",
    "})\n",
    "\n",
    "joined = df_w_age.set_index(\"name\").join(\n",
    "    df_w_height.set_index(\"name\"))\n",
    "\n",
    "print(joined)"
   ]
  },
  {
   "cell_type": "code",
   "execution_count": 152,
   "metadata": {},
   "outputs": [
    {
     "name": "stdout",
     "output_type": "stream",
     "text": [
      "     name  age  height\n",
      "0     Tom   60     6.2\n",
      "1  Tyrell   25     4.0\n",
      "2  Claire   33     5.5\n"
     ]
    }
   ],
   "source": [
    "print(joined.reset_index())\n"
   ]
  },
  {
   "cell_type": "code",
   "execution_count": 153,
   "metadata": {},
   "outputs": [
    {
     "name": "stdout",
     "output_type": "stream",
     "text": [
      "         age  height\n",
      "gender              \n",
      "F       33.0     5.5\n",
      "M       42.5     5.1\n"
     ]
    }
   ],
   "source": [
    "df = pd.DataFrame({\n",
    "    \"name\": [\"Tom\", \"Tyrell\", \"Claire\"],\n",
    "    \"age\": [60,25,33],\n",
    "    \"height\": [6.2, 4.0, 5.5],\n",
    "    \"gender\": [\"M\", \"M\", \"F\"]\n",
    "})\n",
    "\n",
    "print(df.groupby(\"gender\").mean())\n"
   ]
  },
  {
   "cell_type": "code",
   "execution_count": 156,
   "metadata": {},
   "outputs": [
    {
     "data": {
      "text/html": [
       "<div>\n",
       "<style scoped>\n",
       "    .dataframe tbody tr th:only-of-type {\n",
       "        vertical-align: middle;\n",
       "    }\n",
       "\n",
       "    .dataframe tbody tr th {\n",
       "        vertical-align: top;\n",
       "    }\n",
       "\n",
       "    .dataframe thead th {\n",
       "        text-align: right;\n",
       "    }\n",
       "</style>\n",
       "<table border=\"1\" class=\"dataframe\">\n",
       "  <thead>\n",
       "    <tr style=\"text-align: right;\">\n",
       "      <th>0.5</th>\n",
       "      <th>age</th>\n",
       "      <th>height</th>\n",
       "    </tr>\n",
       "    <tr>\n",
       "      <th>gender</th>\n",
       "      <th></th>\n",
       "      <th></th>\n",
       "    </tr>\n",
       "  </thead>\n",
       "  <tbody>\n",
       "    <tr>\n",
       "      <th>F</th>\n",
       "      <td>33.0</td>\n",
       "      <td>5.5</td>\n",
       "    </tr>\n",
       "    <tr>\n",
       "      <th>M</th>\n",
       "      <td>42.5</td>\n",
       "      <td>5.1</td>\n",
       "    </tr>\n",
       "  </tbody>\n",
       "</table>\n",
       "</div>"
      ],
      "text/plain": [
       "0.5      age  height\n",
       "gender              \n",
       "F       33.0     5.5\n",
       "M       42.5     5.1"
      ]
     },
     "execution_count": 156,
     "metadata": {},
     "output_type": "execute_result"
    }
   ],
   "source": [
    "medians = df.groupby(\"gender\").quantile(0.5)\n",
    "medians"
   ]
  },
  {
   "cell_type": "code",
   "execution_count": 159,
   "metadata": {},
   "outputs": [
    {
     "name": "stdout",
     "output_type": "stream",
     "text": [
      "          name  oldest  mean_height\n",
      "gender                             \n",
      "F       Claire      33          5.5\n",
      "M       Tyrell      60          5.1\n"
     ]
    }
   ],
   "source": [
    "def agg(ddf):\n",
    "    return pd.Series({\n",
    "        \"name\": max(ddf[\"name\"]),\n",
    "        \"oldest\": max(ddf[\"age\"]),\n",
    "        \"mean_height\": ddf[\"height\"].mean()\n",
    "})\n",
    "\n",
    "print(df.groupby(\"gender\").apply(agg))"
   ]
  },
  {
   "cell_type": "code",
   "execution_count": null,
   "metadata": {},
   "outputs": [],
   "source": []
  }
 ],
 "metadata": {
  "kernelspec": {
   "display_name": "Python 3",
   "language": "python",
   "name": "python3"
  },
  "language_info": {
   "codemirror_mode": {
    "name": "ipython",
    "version": 3
   },
   "file_extension": ".py",
   "mimetype": "text/x-python",
   "name": "python",
   "nbconvert_exporter": "python",
   "pygments_lexer": "ipython3",
   "version": "3.6.7"
  }
 },
 "nbformat": 4,
 "nbformat_minor": 2
}
